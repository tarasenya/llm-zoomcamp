{
 "cells": [
  {
   "cell_type": "code",
   "execution_count": 21,
   "metadata": {},
   "outputs": [],
   "source": [
    "from openai import OpenAI\n",
    "from dotenv import load_dotenv, find_dotenv\n",
    "import ast\n",
    "import json\n",
    "from pathlib import Path"
   ]
  },
  {
   "cell_type": "code",
   "execution_count": 3,
   "metadata": {},
   "outputs": [
    {
     "data": {
      "text/plain": [
       "True"
      ]
     },
     "execution_count": 3,
     "metadata": {},
     "output_type": "execute_result"
    }
   ],
   "source": [
    "load_dotenv(find_dotenv())"
   ]
  },
  {
   "cell_type": "code",
   "execution_count": 7,
   "metadata": {},
   "outputs": [],
   "source": [
    "# Replace 'your-api-key-here' with your actual OpenAI API key\n",
    "client = OpenAI()\n",
    "def generate_chat_response(prompt):\n",
    "    _system_general_prompt = 'Imagine you are a very busy team lead of an IT department, you always give very vague instructions or ask vague questions'\n",
    "    try:\n",
    "        # Create a completion request to the OpenAI GPT model\n",
    "        response = client.chat.completions.create(\n",
    "            model=\"gpt-4o-mini\",\n",
    "            messages=[\n",
    "                {\"role\": \"system\", \"content\": _system_general_prompt},\n",
    "                {\"role\": \"user\", \"content\": prompt}\n",
    "            ]\n",
    "        )\n",
    "        \n",
    "        # Extract and return the response message content\n",
    "        return response.choices[0].message.content\n",
    "    \n",
    "    except client.error.OpenAIError as e:\n",
    "        return f\"An error occurred: {str(e)}\"\n",
    "\n"
   ]
  },
  {
   "cell_type": "code",
   "execution_count": 13,
   "metadata": {},
   "outputs": [
    {
     "name": "stdout",
     "output_type": "stream",
     "text": [
      "ChatGPT: ```python\n",
      "troubles = [\n",
      "    {\"boss\": \"You know, let's not put all the eggs in one basket, okay?\", \"meaning\": \"We should diversify our deployments to avoid risks.\"},\n",
      "    {\"boss\": \"I need you all to make sure the magic happens by the end of the week.\", \"meaning\": \"Please complete the software updates by Friday.\"},\n",
      "    {\"boss\": \"Can we look at the big picture but also focus on the tiny details?\", \"meaning\": \"We need to balance strategic goals with immediate technical issues.\"},\n",
      "    {\"boss\": \"Let's ensure the wheels are turning smoothly, or something like that.\", \"meaning\": \"We should check system performance and fix any bugs.\"},\n",
      "    {\"boss\": \"I want you guys to think outside the box but maybe not too far.\", \"meaning\": \"Please come up with innovative solutions within our current constraints.\"},\n",
      "    {\"boss\": \"We should probably consider looking into that thing over there.\", \"meaning\": \"We need to investigate the recent deployment failures.\"},\n",
      "    {\"boss\": \"Give me a sense of where we stand on that front, if possible.\", \"meaning\": \"I need a status update on the DevOps project.\"},\n",
      "    {\"boss\": \"Let's keep the lines of communication open, as they say.\", \"meaning\": \"Make sure to share all project updates and issues regularly.\"},\n",
      "    {\"boss\": \"I’d like us to tread carefully while jumping into the deep end.\", \"meaning\": \"We need to proceed cautiously with the new system integration.\"},\n",
      "    {\"boss\": \"Feel free to make some noise if something feels off, whatever that means.\", \"meaning\": \"Report any anomalies or concerns you encounter.\"}\n",
      "]\n",
      "```\n"
     ]
    }
   ],
   "source": [
    "user_prompt = \"The IT boss now hat lots of troubles in DevOps sub department. Generate 10 couples of the sentences of the following form, first sentence is what a boss says to his colleagues in a vague and very weird manner, the second sentence is what he actually means. I want to get this sentences in a format of list of dictionaries, so that I can use it immediately in python code, no additional information should be added.\"\n",
    "chat_response = generate_chat_response(user_prompt)\n",
    "print(f\"ChatGPT: {chat_response}\")"
   ]
  },
  {
   "cell_type": "code",
   "execution_count": 17,
   "metadata": {},
   "outputs": [],
   "source": [
    "cleaned_string = chat_response.replace('```python\\ntroubles = ', '').replace('```', '').strip()"
   ]
  },
  {
   "cell_type": "code",
   "execution_count": 18,
   "metadata": {},
   "outputs": [],
   "source": [
    "troubles = ast.literal_eval(cleaned_string)"
   ]
  },
  {
   "cell_type": "code",
   "execution_count": 19,
   "metadata": {},
   "outputs": [
    {
     "data": {
      "text/plain": [
       "[{'boss': \"You know, let's not put all the eggs in one basket, okay?\",\n",
       "  'meaning': 'We should diversify our deployments to avoid risks.'},\n",
       " {'boss': 'I need you all to make sure the magic happens by the end of the week.',\n",
       "  'meaning': 'Please complete the software updates by Friday.'},\n",
       " {'boss': 'Can we look at the big picture but also focus on the tiny details?',\n",
       "  'meaning': 'We need to balance strategic goals with immediate technical issues.'},\n",
       " {'boss': \"Let's ensure the wheels are turning smoothly, or something like that.\",\n",
       "  'meaning': 'We should check system performance and fix any bugs.'},\n",
       " {'boss': 'I want you guys to think outside the box but maybe not too far.',\n",
       "  'meaning': 'Please come up with innovative solutions within our current constraints.'},\n",
       " {'boss': 'We should probably consider looking into that thing over there.',\n",
       "  'meaning': 'We need to investigate the recent deployment failures.'},\n",
       " {'boss': 'Give me a sense of where we stand on that front, if possible.',\n",
       "  'meaning': 'I need a status update on the DevOps project.'},\n",
       " {'boss': \"Let's keep the lines of communication open, as they say.\",\n",
       "  'meaning': 'Make sure to share all project updates and issues regularly.'},\n",
       " {'boss': 'I’d like us to tread carefully while jumping into the deep end.',\n",
       "  'meaning': 'We need to proceed cautiously with the new system integration.'},\n",
       " {'boss': 'Feel free to make some noise if something feels off, whatever that means.',\n",
       "  'meaning': 'Report any anomalies or concerns you encounter.'}]"
      ]
     },
     "execution_count": 19,
     "metadata": {},
     "output_type": "execute_result"
    }
   ],
   "source": [
    "troubles"
   ]
  },
  {
   "cell_type": "code",
   "execution_count": 22,
   "metadata": {},
   "outputs": [],
   "source": [
    "file_path = \"data.json\"\n",
    "\n",
    "with open(Path().cwd().parent/'data'/'initial_data', 'w') as file:\n",
    "    json.dump(troubles, file)"
   ]
  },
  {
   "cell_type": "code",
   "execution_count": 23,
   "metadata": {},
   "outputs": [],
   "source": [
    "with open(Path().cwd().parent/'data'/'initial_data', 'r') as file:\n",
    "    x = json.load(file)"
   ]
  },
  {
   "cell_type": "code",
   "execution_count": null,
   "metadata": {},
   "outputs": [],
   "source": []
  }
 ],
 "metadata": {
  "kernelspec": {
   "display_name": "Python 3",
   "language": "python",
   "name": "python3"
  },
  "language_info": {
   "codemirror_mode": {
    "name": "ipython",
    "version": 3
   },
   "file_extension": ".py",
   "mimetype": "text/x-python",
   "name": "python",
   "nbconvert_exporter": "python",
   "pygments_lexer": "ipython3",
   "version": "3.10.13"
  }
 },
 "nbformat": 4,
 "nbformat_minor": 2
}
