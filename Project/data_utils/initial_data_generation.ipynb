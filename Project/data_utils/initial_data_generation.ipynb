{
 "cells": [
  {
   "cell_type": "code",
   "execution_count": 1,
   "metadata": {},
   "outputs": [],
   "source": [
    "from openai import OpenAI\n",
    "from dotenv import load_dotenv, find_dotenv\n",
    "import ast\n",
    "import json\n",
    "from pathlib import Path"
   ]
  },
  {
   "cell_type": "code",
   "execution_count": 2,
   "metadata": {},
   "outputs": [
    {
     "data": {
      "text/plain": [
       "True"
      ]
     },
     "execution_count": 2,
     "metadata": {},
     "output_type": "execute_result"
    }
   ],
   "source": [
    "load_dotenv(find_dotenv())"
   ]
  },
  {
   "cell_type": "code",
   "execution_count": 6,
   "metadata": {},
   "outputs": [],
   "source": [
    "client = OpenAI()\n",
    "def generate_chat_response(prompt):\n",
    "    _system_general_prompt = 'Imagine you are a very busy team lead of an IT department, you always give very vague instructions or ask vague questions'\n",
    "    try:\n",
    "        response = client.chat.completions.create(\n",
    "            model=\"gpt-4o-mini\",\n",
    "            messages=[\n",
    "                {\"role\": \"system\", \"content\": _system_general_prompt},\n",
    "                {\"role\": \"user\", \"content\": prompt}\n",
    "            ]\n",
    "        )\n",
    "        \n",
    "        # Extract and return the response message content\n",
    "        return response.choices[0].message.content\n",
    "    \n",
    "    except client.error.OpenAIError as e:\n",
    "        return f\"An error occurred: {str(e)}\"\n",
    "\n"
   ]
  },
  {
   "cell_type": "code",
   "execution_count": 19,
   "metadata": {},
   "outputs": [],
   "source": [
    "dev_ops_prompt = 'The IT boss now hat lots of troubles in DevOps sub department. Deployments are failing, environemtns are not stable. Generate 100 couples of the sentences of the following form, first sentence is what a boss says to his colleagues in a vague and very weird manner, the second sentence is what he actually means. I want to get this sentences in a format of list of dictionaries (The keys of dictionaries should be \"vague\", \"actual\"), so that I can use it immediately in python code, no additional information should be added.'\n",
    "ml_prompt = 'The IT boss now hat lots of troubles with machine learning department. Customers are not satisfacted with models quality. Generate 100 couples of the sentences of the following form, first sentence is what a boss says to his colleagues in a vague and very weird manner, the second sentence is what he actually means. I want to get this sentences in a format of list of dictionaries (The keys of dictionaries should be \"vague\", \"actual\"), so that I can use it immediately in python code, no additional information should be added.'\n",
    "marketing_prompt = 'The IT boss now hat lots of troubles with marketing department. Now all need to take part in marekting activities. Generate 100 couples of the sentences of the following form, first sentence is what a boss says to his colleagues in a vague and very weird manner, the second sentence is what he actually means. I want to get this sentences in a format of list of dictionaries (The keys of dictionaries should be \"vague\", \"actual\"), so that I can use it immediately in python code, no additional information should be added.'\n",
    "\n",
    "sales_prompt = 'The IT boss now hat lots of troubles with sales department. All the time he talks about selling our IT products. Generate 100 couples of the sentences of the following form, first sentence is what a boss says to his colleagues in a vague and very weird manner, the second sentence is what he actually means. I want to get this sentences in a format of list of dictionaries (The keys of dictionaries should be \"vague\", \"actual\"), so that I can use it immediately in python code, no additional information should be added.'\n",
    "frontend_prompt = 'The IT boss now hat lots of troubles with frontend  developers. He gives pieces of advice hot to fix front end part, offers new frameworks. Generate 100 couples of the sentences of the following form, first sentence is what a boss says to his colleagues in a vague and very weird manner, the second sentence is what he actually means. I want to get this sentences in a format of list of dictionaries (The keys of dictionaries should be \"vague\", \"actual\"), so that I can use it immediately in python code, no additional information should be added.'\n",
    "backend_prompt = 'The IT boss now hat lots of troubles with backend developers. He gives pieces of advice hot to fix back end part, offers new frameworks and programming languages. Generate 100 couples of the sentences of the following form, first sentence is what a boss says to his colleagues in a vague and very weird manner, the second sentence is what he actually means. I want to get this sentences in a format of list of dictionaries (The keys of dictionaries should be \"vague\", \"actual\"), so that I can use it immediately in python code, no additional information should be added.'"
   ]
  },
  {
   "cell_type": "code",
   "execution_count": 14,
   "metadata": {},
   "outputs": [],
   "source": [
    "chat_responses = []\n",
    "for user_prompt in [dev_ops_prompt, ml_prompt, marketing_prompt, sales_prompt, frontend_prompt, backend_prompt]:\n",
    "    chat_response = generate_chat_response(user_prompt)\n",
    "    chat_responses.append(chat_response) "
   ]
  },
  {
   "cell_type": "code",
   "execution_count": 23,
   "metadata": {},
   "outputs": [],
   "source": [
    "chef_vocabulary = []\n",
    "for chat_response in chat_responses:\n",
    "    cleaned_string = chat_response.replace('```python\\nvague_instructions = ', '').replace('```python\\nsentences = ', '').replace('```python\\ndata = ', '').\\\n",
    "    replace('```', '').strip()\n",
    "    chef_vocabulary.extend(ast.literal_eval(cleaned_string))"
   ]
  },
  {
   "cell_type": "code",
   "execution_count": 62,
   "metadata": {},
   "outputs": [],
   "source": [
    "file_path = \"data.json\"\n",
    "\n",
    "with open(Path().cwd().parent/'data'/'initial_data', 'w') as file:  \n",
    "    json.dump(chef_vocabulary, file)"
   ]
  },
  {
   "cell_type": "code",
   "execution_count": null,
   "metadata": {},
   "outputs": [],
   "source": []
  }
 ],
 "metadata": {
  "kernelspec": {
   "display_name": "Python 3",
   "language": "python",
   "name": "python3"
  },
  "language_info": {
   "codemirror_mode": {
    "name": "ipython",
    "version": 3
   },
   "file_extension": ".py",
   "mimetype": "text/x-python",
   "name": "python",
   "nbconvert_exporter": "python",
   "pygments_lexer": "ipython3",
   "version": "3.10.13"
  }
 },
 "nbformat": 4,
 "nbformat_minor": 2
}
