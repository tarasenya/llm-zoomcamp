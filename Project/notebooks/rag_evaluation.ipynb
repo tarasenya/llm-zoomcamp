{
 "cells": [
  {
   "cell_type": "code",
   "execution_count": 2,
   "metadata": {},
   "outputs": [],
   "source": [
    "import sys\n",
    "import os\n",
    "\n",
    "project_root = os.path.abspath(os.path.join(os.getcwd(), '..'))\n",
    "if project_root not in sys.path:\n",
    "    sys.path.insert(0, project_root)"
   ]
  },
  {
   "cell_type": "code",
   "execution_count": 18,
   "metadata": {},
   "outputs": [
    {
     "data": {
      "text/plain": [
       "True"
      ]
     },
     "execution_count": 18,
     "metadata": {},
     "output_type": "execute_result"
    }
   ],
   "source": [
    "import json\n",
    "import re\n",
    "import pickle\n",
    "from dotenv import find_dotenv, load_dotenv\n",
    "\n",
    "from sentence_transformers import SentenceTransformer\n",
    "import seaborn as sns\n",
    "import matplotlib.pyplot as plt\n",
    "import pandas as pd\n",
    "\n",
    "from src import elastic_search_engine, rag, llm\n",
    "\n",
    "load_dotenv(find_dotenv('../.env'))"
   ]
  },
  {
   "cell_type": "code",
   "execution_count": 6,
   "metadata": {},
   "outputs": [],
   "source": [
    "with open('../data/initial_data_w_id.json', 'r') as f_in:\n",
    "    documents = json.load(f_in)"
   ]
  },
  {
   "cell_type": "code",
   "execution_count": 7,
   "metadata": {},
   "outputs": [],
   "source": [
    "doc_idx = {d['id']: d for d in documents}"
   ]
  },
  {
   "cell_type": "markdown",
   "metadata": {},
   "source": [
    "# Example of a possible RAG"
   ]
  },
  {
   "cell_type": "code",
   "execution_count": 8,
   "metadata": {},
   "outputs": [
    {
     "name": "stderr",
     "output_type": "stream",
     "text": [
      "/home/taras/.local/share/virtualenvs/llm-zoomcamp-sfbU5DAF/lib/python3.10/site-packages/transformers/tokenization_utils_base.py:1601: FutureWarning: `clean_up_tokenization_spaces` was not set. It will be set to `True` by default. This behavior will be depracted in transformers v4.45, and will be then set to `False` by default. For more details check this issue: https://github.com/huggingface/transformers/issues/31884\n",
      "  warnings.warn(\n"
     ]
    }
   ],
   "source": [
    "elastic_semantic_searcher = elastic_search_engine.ElasticSemanticSearcher(index_name='vague-actual-mpnet')\n",
    "prompt_template = \"\"\"\n",
    "    Your are a translator from vague boss language into an everyday language. Translate\n",
    "    the VAGUE statement or question based on the CONTEXT. Provide a clear and concise translation. Provide only the translation and no other information.\n",
    "    VAGUE: {vague}\n",
    "    \n",
    "    CONTEXT: {context}\n",
    "    \"\"\".strip()\n",
    "    \n",
    "chatgpt_4o_mini = rag.ChatGPTRAG(elastic_searcher=elastic_semantic_searcher,\n",
    "                 prompt_template=prompt_template, \n",
    "                 llm_model='gpt-4o-mini',\n",
    "                 sentence_transformer_name='all-mpnet-base-v2')"
   ]
  },
  {
   "cell_type": "code",
   "execution_count": 9,
   "metadata": {},
   "outputs": [
    {
     "data": {
      "text/plain": [
       "'We need to speed up our work to avoid delays.'"
      ]
     },
     "execution_count": 9,
     "metadata": {},
     "output_type": "execute_result"
    }
   ],
   "source": [
    "chatgpt_4o_mini.rag_results('We need to become Speedy Gonzales and kick it into hyperdrive or we are going to be stuck in traffic.')"
   ]
  },
  {
   "cell_type": "markdown",
   "metadata": {},
   "source": [
    "## Evaluation for different RAGs"
   ]
  },
  {
   "cell_type": "code",
   "execution_count": 10,
   "metadata": {},
   "outputs": [],
   "source": [
    "ground_truth = pd.read_csv('../data/ground_truth_data.csv')"
   ]
  },
  {
   "cell_type": "markdown",
   "metadata": {},
   "source": [
    "I will randomly take 800 documents for RAG evaluation to save time and money."
   ]
  },
  {
   "cell_type": "code",
   "execution_count": 11,
   "metadata": {},
   "outputs": [],
   "source": [
    "ground_truth = ground_truth.sample(800)"
   ]
  },
  {
   "cell_type": "code",
   "execution_count": 12,
   "metadata": {},
   "outputs": [],
   "source": [
    "ground_truth = ground_truth.to_dict(orient='records')"
   ]
  },
  {
   "cell_type": "code",
   "execution_count": 32,
   "metadata": {},
   "outputs": [],
   "source": [
    "from tqdm.notebook import tqdm\n",
    "from concurrent.futures import ThreadPoolExecutor\n",
    "\n",
    "pool = ThreadPoolExecutor(max_workers=6)\n",
    "\n",
    "def map_progress(pool, seq, f, model):\n",
    "    results = []\n",
    "    with tqdm(total=len(seq)) as progress:\n",
    "        futures = []\n",
    "        for el in seq:\n",
    "            future = pool.submit(f, el, model)\n",
    "            future.add_done_callback(lambda p: progress.update())\n",
    "            futures.append(future)\n",
    "        for future in futures:\n",
    "            result = future.result()\n",
    "            results.append(result)\n",
    "    return results"
   ]
  },
  {
   "cell_type": "code",
   "execution_count": 14,
   "metadata": {},
   "outputs": [],
   "source": [
    "def process_record(rec, model):\n",
    "    answer_llm = model.rag_results(rec['vague'])\n",
    "    \n",
    "    doc_id = rec['doc_id']\n",
    "    original_doc = doc_idx[doc_id]\n",
    "    answer_orig = original_doc['actual']\n",
    "\n",
    "    return {\n",
    "        'answer_llm': answer_llm,\n",
    "        'answer_orig': answer_orig,\n",
    "        'document': doc_id,\n",
    "        'vague': rec['vague'],\n",
    "    }"
   ]
  },
  {
   "cell_type": "code",
   "execution_count": 15,
   "metadata": {},
   "outputs": [
    {
     "data": {
      "text/plain": [
       "{'answer_llm': 'We need to organize our strategies to align with the overall company goals.',\n",
       " 'answer_orig': 'We need to organize our resources as we work to improve our IT infrastructure.',\n",
       " 'document': '71431fe22ddd3f00f79bea0c094d92e5',\n",
       " 'vague': 'We should get our ducks in order as we navigate towards a stronger infrastructure.'}"
      ]
     },
     "execution_count": 15,
     "metadata": {},
     "output_type": "execute_result"
    }
   ],
   "source": [
    "process_record(ground_truth[5], chatgpt_4o_mini)"
   ]
  },
  {
   "cell_type": "code",
   "execution_count": null,
   "metadata": {},
   "outputs": [],
   "source": [
    "result_prompt_standard = map_progress(pool, ground_truth, process_record, chatgpt_4o_mini)"
   ]
  },
  {
   "cell_type": "code",
   "execution_count": null,
   "metadata": {},
   "outputs": [],
   "source": [
    "pd.DataFrame(result_prompt_standard).to_csv(r'../data/standard_prompt_rag_evaluation.csv', index=False)"
   ]
  },
  {
   "cell_type": "markdown",
   "metadata": {},
   "source": [
    "## Adding one more candidate. Ambiguity resolver RAG."
   ]
  },
  {
   "cell_type": "code",
   "execution_count": 16,
   "metadata": {},
   "outputs": [],
   "source": [
    "ambiguity_resolver_prompt = \"\"\"You are an Ambiguity Resolver for tech management communication. Your task is to:\n",
    "\n",
    "1. Interpret the VAGUE STATEMENT from an IT manager\n",
    "2. Consider the given CONTEXT\n",
    "3. Rewrite the statement in clear, specific, and actionable terms\n",
    "\n",
    "Provide only the rewritten statement without additional commentary.\n",
    "\n",
    "VAGUE STATEMENT: {vague}\n",
    "\n",
    "CONTEXT: {context}\n",
    "\n",
    "CLEAR STATEMENT:\"\"\".strip()"
   ]
  },
  {
   "cell_type": "code",
   "execution_count": 17,
   "metadata": {},
   "outputs": [
    {
     "name": "stderr",
     "output_type": "stream",
     "text": [
      "/home/taras/.local/share/virtualenvs/llm-zoomcamp-sfbU5DAF/lib/python3.10/site-packages/transformers/tokenization_utils_base.py:1601: FutureWarning: `clean_up_tokenization_spaces` was not set. It will be set to `True` by default. This behavior will be depracted in transformers v4.45, and will be then set to `False` by default. For more details check this issue: https://github.com/huggingface/transformers/issues/31884\n",
      "  warnings.warn(\n"
     ]
    }
   ],
   "source": [
    "# defining new RAG with a prompt above\n",
    "ambiguity_resolver_rag= rag.ChatGPTRAG(elastic_searcher=elastic_semantic_searcher,\n",
    "                 prompt_template=ambiguity_resolver_prompt, \n",
    "                 llm_model='gpt-4o-mini',\n",
    "                 sentence_transformer_name='all-mpnet-base-v2')"
   ]
  },
  {
   "cell_type": "code",
   "execution_count": 18,
   "metadata": {},
   "outputs": [
    {
     "data": {
      "text/plain": [
       "'We need to accelerate our development process to ensure we meet project deadlines.'"
      ]
     },
     "execution_count": 18,
     "metadata": {},
     "output_type": "execute_result"
    }
   ],
   "source": [
    "# Exaple of usage\n",
    "ambiguity_resolver_rag.rag_results('We need to become Speedy Gonzales and kick it into hyperdrive or we are going to be stuck in traffic.')"
   ]
  },
  {
   "cell_type": "code",
   "execution_count": 20,
   "metadata": {},
   "outputs": [
    {
     "data": {
      "application/vnd.jupyter.widget-view+json": {
       "model_id": "712739d2b40a43e18a627f58c5a6cd54",
       "version_major": 2,
       "version_minor": 0
      },
      "text/plain": [
       "  0%|          | 0/800 [00:00<?, ?it/s]"
      ]
     },
     "metadata": {},
     "output_type": "display_data"
    }
   ],
   "source": [
    "result_ambiguity_resolver = map_progress(pool, ground_truth, process_record, ambiguity_resolver_rag)"
   ]
  },
  {
   "cell_type": "code",
   "execution_count": 21,
   "metadata": {},
   "outputs": [],
   "source": [
    "pd.DataFrame(result_ambiguity_resolver).to_csv('../data/ambiguity_resolver_rag_evaluation.csv', index=False)"
   ]
  },
  {
   "cell_type": "markdown",
   "metadata": {},
   "source": [
    "### Comparing"
   ]
  },
  {
   "cell_type": "code",
   "execution_count": 8,
   "metadata": {},
   "outputs": [],
   "source": [
    "def compute_similarity(record, sentence_transformer_model):\n",
    "    answer_orig = record['answer_orig']\n",
    "    answer_llm = record['answer_llm']\n",
    "    \n",
    "    v_llm = sentence_transformer_model.encode(answer_llm)\n",
    "    v_orig = sentence_transformer_model.encode(answer_orig)\n",
    "    \n",
    "    return v_llm.dot(v_orig)\n"
   ]
  },
  {
   "cell_type": "code",
   "execution_count": 4,
   "metadata": {},
   "outputs": [
    {
     "name": "stderr",
     "output_type": "stream",
     "text": [
      "/home/taras/.local/share/virtualenvs/llm-zoomcamp-sfbU5DAF/lib/python3.10/site-packages/transformers/tokenization_utils_base.py:1601: FutureWarning: `clean_up_tokenization_spaces` was not set. It will be set to `True` by default. This behavior will be depracted in transformers v4.45, and will be then set to `False` by default. For more details check this issue: https://github.com/huggingface/transformers/issues/31884\n",
      "  warnings.warn(\n"
     ]
    }
   ],
   "source": [
    "standard_rag_evaluation = pd.read_csv(r'../data/standard_prompt_rag_evaluation.csv')\n",
    "ambiguity_resolver_rag_evalution = pd.read_csv('../data/ambiguity_resolver_rag_evaluation.csv')\n",
    "sentence_model_transformer = SentenceTransformer('all-mpnet-base-v2')"
   ]
  },
  {
   "cell_type": "code",
   "execution_count": 9,
   "metadata": {},
   "outputs": [],
   "source": [
    "standard_rag_results = [compute_similarity(rec, sentence_transformer_model=sentence_model_transformer)\n",
    "                        for rec in standard_rag_evaluation.to_dict(orient='records')]"
   ]
  },
  {
   "cell_type": "code",
   "execution_count": 10,
   "metadata": {},
   "outputs": [],
   "source": [
    "ambiguity_resolver_rag_results = [compute_similarity(rec, sentence_transformer_model=sentence_model_transformer)\n",
    "                        for rec in ambiguity_resolver_rag_evalution.to_dict(orient='records')]"
   ]
  },
  {
   "cell_type": "code",
   "execution_count": 13,
   "metadata": {},
   "outputs": [],
   "source": [
    "pd.DataFrame({'sim': standard_rag_results}).to_csv('../data/standard_rag_results.csv', index=False)\n",
    "pd.DataFrame({'sim': ambiguity_resolver_rag_results}).to_csv('../data/ambiguity_resolver_rag_results.csv', index=False)"
   ]
  },
  {
   "cell_type": "code",
   "execution_count": 17,
   "metadata": {},
   "outputs": [
    {
     "name": "stderr",
     "output_type": "stream",
     "text": [
      "/tmp/ipykernel_25820/30980072.py:1: UserWarning: \n",
      "\n",
      "`distplot` is a deprecated function and will be removed in seaborn v0.14.0.\n",
      "\n",
      "Please adapt your code to use either `displot` (a figure-level function with\n",
      "similar flexibility) or `histplot` (an axes-level function for histograms).\n",
      "\n",
      "For a guide to updating your code to use the new functions, please see\n",
      "https://gist.github.com/mwaskom/de44147ed2974457ad6372750bbe5751\n",
      "\n",
      "  sns.distplot(standard_rag_results, label='standard')\n",
      "/tmp/ipykernel_25820/30980072.py:2: UserWarning: \n",
      "\n",
      "`distplot` is a deprecated function and will be removed in seaborn v0.14.0.\n",
      "\n",
      "Please adapt your code to use either `displot` (a figure-level function with\n",
      "similar flexibility) or `histplot` (an axes-level function for histograms).\n",
      "\n",
      "For a guide to updating your code to use the new functions, please see\n",
      "https://gist.github.com/mwaskom/de44147ed2974457ad6372750bbe5751\n",
      "\n",
      "  sns.distplot(ambiguity_resolver_rag_results, label='ambiguity_resolver')\n"
     ]
    },
    {
     "data": {
      "text/plain": [
       "<matplotlib.legend.Legend at 0x7fee22af7520>"
      ]
     },
     "execution_count": 17,
     "metadata": {},
     "output_type": "execute_result"
    },
    {
     "data": {
      "image/png": "[encoded data removed]",
      "text/plain": [
       "<Figure size 640x480 with 1 Axes>"
      ]
     },
     "metadata": {},
     "output_type": "display_data"
    }
   ],
   "source": [
    "\n",
    "sns.distplot(standard_rag_results, label='standard')\n",
    "sns.distplot(ambiguity_resolver_rag_results, label='ambiguity_resolver')\n",
    "\n",
    "plt.title(\"RAG LLM performance\")\n",
    "plt.xlabel(\"A->Q->A' Cosine Similarity\")\n",
    "plt.legend()\n"
   ]
  },
  {
   "cell_type": "markdown",
   "metadata": {},
   "source": [
    "## LLM-as-a-judge"
   ]
  },
  {
   "cell_type": "markdown",
   "metadata": {},
   "source": [
    "Taking 100 random samples for LLM-as-a-judge evaluation"
   ]
  },
  {
   "cell_type": "code",
   "execution_count": 9,
   "metadata": {},
   "outputs": [],
   "source": [
    "standard_rag_evaluation_sample = standard_rag_evaluation.drop(columns=['document']).sample(100).to_dict(orient='records')\n",
    "ambiguity_resolver_rag_evalution_sample = ambiguity_resolver_rag_evalution.drop(columns=['document']).sample(100).to_dict(orient='records')"
   ]
  },
  {
   "cell_type": "code",
   "execution_count": 30,
   "metadata": {},
   "outputs": [],
   "source": [
    "judge_prompt_template = \"\"\" \n",
    "LLM-as-a-Judge Prompt for RAG Evaluation\n",
    "You are an expert judge evaluating the performance of a Retrieval-Augmented Generation (RAG) system. This system is designed to translate vague statements from IT bosses into their actual meanings. Your task is to assess the quality and accuracy of the RAG system's translations.\n",
    "For each example, you will be provided with:\n",
    "\n",
    "The original vague statement or question from the IT boss\n",
    "The actual meaning or intended question (ground truth)\n",
    "The RAG system's translation\n",
    "\n",
    "Input Data\n",
    "Please evaluate the following translation:\n",
    "Vague IT boss question: {vague}\n",
    "Actual Meaning: {answer_orig}\n",
    "RAG Translation: {answer_llm}\n",
    "\n",
    "Evaluation Criteria\n",
    "Your job is to:\n",
    "\n",
    "Analyze the RAG system's translation compared to the actual meaning.\n",
    "Evaluate the translation on the following criteria:\n",
    "a. Accuracy: How well does the translation capture the intended meaning?\n",
    "b. Clarity: Is the translation clear and easy to understand?\n",
    "c. Completeness: Does the translation cover all important aspects of the actual meaning?\n",
    "d. Relevance: Does the translation focus on the most important parts of the vague statement?\n",
    "Provide a score for each criterion on a scale of 1-5, where:\n",
    "1 = Poor\n",
    "2 = Fair\n",
    "3 = Good\n",
    "4 = Very Good\n",
    "5 = Excellent\n",
    "Give an overall score (1-5) for the translation.\n",
    "Provide a brief explanation (2-3 sentences) for your scoring, highlighting strengths and areas for improvement.\n",
    "If the translation is incorrect or misleading, explain what went wrong and suggest how it could be improved.\n",
    "\n",
    "Output Format\n",
    "Please structure your evaluation like this:\n",
    "Criteria Scores:\n",
    "\n",
    "Accuracy: [Score]\n",
    "Clarity: [Score]\n",
    "Completeness: [Score]\n",
    "Relevance: [Score]\n",
    "\n",
    "Overall Score: [Score]\n",
    "Explanation: [Your brief explanation]\n",
    "Improvement Suggestions (if necessary): [Your suggestions]\n",
    "Please provide your evaluation for the given example.\n",
    "\"\"\".strip()"
   ]
  },
  {
   "cell_type": "markdown",
   "metadata": {},
   "source": [
    "#### Standard Prompt"
   ]
  },
  {
   "cell_type": "code",
   "execution_count": 35,
   "metadata": {},
   "outputs": [
    {
     "data": {
      "application/vnd.jupyter.widget-view+json": {
       "model_id": "dcc9ba3232944dccbf35db9ccd15a412",
       "version_major": 2,
       "version_minor": 0
      },
      "text/plain": [
       "  0%|          | 0/100 [00:00<?, ?it/s]"
      ]
     },
     "metadata": {},
     "output_type": "display_data"
    }
   ],
   "source": [
    "standard_rag_judged_results = []\n",
    "for rec in tqdm(standard_rag_evaluation_sample):\n",
    "    rec['vague'] = rec.pop('question')\n",
    "    judge_prompt = judge_prompt_template.format(**rec)\n",
    "    standard_rag_judged_results.append(llm.llm(prompt=judge_prompt, gpt_model='gpt-4o-mini'))"
   ]
  },
  {
   "cell_type": "markdown",
   "metadata": {},
   "source": [
    "#### Ambiguity Resolver"
   ]
  },
  {
   "cell_type": "code",
   "execution_count": 37,
   "metadata": {},
   "outputs": [
    {
     "data": {
      "application/vnd.jupyter.widget-view+json": {
       "model_id": "29bac00a6b35474a9f7b1f19d7c681e9",
       "version_major": 2,
       "version_minor": 0
      },
      "text/plain": [
       "  0%|          | 0/100 [00:00<?, ?it/s]"
      ]
     },
     "metadata": {},
     "output_type": "display_data"
    }
   ],
   "source": [
    "ambiguity_resolver_judged_results = []\n",
    "for rec in tqdm(ambiguity_resolver_rag_evalution_sample):\n",
    "    judge_prompt = judge_prompt_template.format(**rec)\n",
    "    ambiguity_resolver_judged_results.append(llm.llm(prompt=judge_prompt, gpt_model='gpt-4o-mini'))"
   ]
  },
  {
   "cell_type": "code",
   "execution_count": 39,
   "metadata": {},
   "outputs": [],
   "source": [
    "with open('../data/ambiguity_resolver_judged_results.pkl', 'wb') as f_in:\n",
    "    pickle.dump(ambiguity_resolver_judged_results, f_in)\n",
    "with open('../data/standard_rag_judged_results.pkl', 'wb') as f_in:\n",
    "    pickle.dump(standard_rag_judged_results, f_in)    "
   ]
  },
  {
   "cell_type": "code",
   "execution_count": 28,
   "metadata": {},
   "outputs": [],
   "source": [
    "def parse_evaluation_text(text: str) -> dict:\n",
    "    \"\"\"\n",
    "\n",
    "    Args:\n",
    "        text str: answer got from Judge-LLM (gpt-5o-mini)\n",
    "\n",
    "    Returns:\n",
    "        dict: of the following format  {'Criteri Scores': {'Clarity':..., 'Relevance':..., 'Accuracy':..., 'Completeness':...}, 'Overall Score': ...,\n",
    "        'Explanation':..., 'Imporvement Suggestions': ...}\n",
    "    \"\"\"\n",
    "    # Initialize the dictionary\n",
    "    result = {\"Criteria Scores\": {}}\n",
    "    \n",
    "    # Use regex to extract key-value pairs\n",
    "    patterns = {\n",
    "        \"Criteria Scores\": r'(\\w+):\\s*(\\d+)',\n",
    "        \"Overall Score\": r'Overall Score:\\s*([\\d.]+)',\n",
    "        \"Explanation\": r'Explanation:\\s*(.*?)(?=\\n\\n|\\Z)',\n",
    "        \"Improvement Suggestions\": r'Improvement Suggestions:\\s*(.*?)(?=\\n\\n|\\Z)'\n",
    "    }\n",
    "    \n",
    "    # Extract Criteria Scores\n",
    "    criteria_scores = re.findall(patterns[\"Criteria Scores\"], text)\n",
    "    for criterion, score in criteria_scores:\n",
    "        result[\"Criteria Scores\"][criterion] = int(score)\n",
    "    \n",
    "    # Extract other fields\n",
    "    for key, pattern in patterns.items():\n",
    "        if key != \"Criteria Scores\":\n",
    "            match = re.search(pattern, text, re.DOTALL)\n",
    "            if match:\n",
    "                value = match.group(1).strip()\n",
    "                result[key] = float(value) if key == \"Overall Score\" else value\n",
    "    \n",
    "    return result"
   ]
  },
  {
   "cell_type": "code",
   "execution_count": 44,
   "metadata": {},
   "outputs": [],
   "source": [
    "# parsing results from hot from Judge-LLM\n",
    "ambiguity_resolver_judged_results_parsed = [ parse_evaluation_text(res) for res in ambiguity_resolver_judged_results]\n",
    "standard_rag_judged_results_parsed = [ parse_evaluation_text(res) for res in standard_rag_judged_results]"
   ]
  },
  {
   "cell_type": "markdown",
   "metadata": {},
   "source": [
    "##### Looking at different metrics fro Judge-LLM"
   ]
  },
  {
   "cell_type": "code",
   "execution_count": 50,
   "metadata": {},
   "outputs": [
    {
     "data": {
      "text/plain": [
       "<matplotlib.legend.Legend at 0x7f07ebbc3e50>"
      ]
     },
     "execution_count": 50,
     "metadata": {},
     "output_type": "execute_result"
    },
    {
     "data": {
      "image/png": "[encoded data removed]",
      "text/plain": [
       "<Figure size 640x480 with 1 Axes>"
      ]
     },
     "metadata": {},
     "output_type": "display_data"
    }
   ],
   "source": [
    "sns.histplot([res['Overall Score'] for res in standard_rag_judged_results_parsed], label = 'standard rag')\n",
    "sns.histplot([res['Overall Score'] for res in ambiguity_resolver_judged_results_parsed], label = 'ambiguity resolver')\n",
    "plt.title('Overall Score: Comparison for 2 RAGs')\n",
    "plt.legend()"
   ]
  },
  {
   "cell_type": "markdown",
   "metadata": {},
   "source": []
  },
  {
   "cell_type": "code",
   "execution_count": 52,
   "metadata": {},
   "outputs": [
    {
     "data": {
      "text/plain": [
       "<matplotlib.legend.Legend at 0x7f07ebce26b0>"
      ]
     },
     "execution_count": 52,
     "metadata": {},
     "output_type": "execute_result"
    },
    {
     "data": {
      "image/png": "[encoded data removed]",
      "text/plain": [
       "<Figure size 640x480 with 1 Axes>"
      ]
     },
     "metadata": {},
     "output_type": "display_data"
    }
   ],
   "source": [
    "sns.histplot([res['Criteria Scores']['Relevance'] for res in standard_rag_judged_results_parsed], label = 'standard rag')\n",
    "sns.histplot([res['Criteria Scores']['Relevance'] for res in ambiguity_resolver_judged_results_parsed], label = 'ambiguity resolver')\n",
    "plt.title('Relevance: Comparison for 2 RAGs')\n",
    "plt.legend()"
   ]
  },
  {
   "cell_type": "code",
   "execution_count": 53,
   "metadata": {},
   "outputs": [
    {
     "data": {
      "text/plain": [
       "<matplotlib.legend.Legend at 0x7f07ebb52d40>"
      ]
     },
     "execution_count": 53,
     "metadata": {},
     "output_type": "execute_result"
    },
    {
     "data": {
      "image/png": "[encoded data removed]",
      "text/plain": [
       "<Figure size 640x480 with 1 Axes>"
      ]
     },
     "metadata": {},
     "output_type": "display_data"
    }
   ],
   "source": [
    "sns.histplot([res['Criteria Scores']['Clarity'] for res in standard_rag_judged_results_parsed], label = 'standard rag')\n",
    "sns.histplot([res['Criteria Scores']['Clarity'] for res in ambiguity_resolver_judged_results_parsed], label = 'ambiguity resolver')\n",
    "plt.title('Clarity: Comparison for 2 RAGs')\n",
    "plt.legend()"
   ]
  },
  {
   "cell_type": "code",
   "execution_count": 55,
   "metadata": {},
   "outputs": [
    {
     "data": {
      "text/plain": [
       "[{'Criteria Scores': {'Accuracy': 4,\n",
       "   'Clarity': 5,\n",
       "   'Completeness': 3,\n",
       "   'Relevance': 4,\n",
       "   'Score': 4},\n",
       "  'Overall Score': 4.0,\n",
       "  'Explanation': \"The RAG system's translation accurately conveys the essence of the original vague statement by indicating that there is a need to identify important parts of the data. It is clear and easy to understand. However, it could be improved in completeness, as it does not explicitly mention analyzing the data to extract useful insights, which is a key aspect of the original meaning.\"},\n",
       " {'Criteria Scores': {'Accuracy': 2,\n",
       "   'Clarity': 4,\n",
       "   'Completeness': 3,\n",
       "   'Relevance': 3,\n",
       "   'Score': 3},\n",
       "  'Overall Score': 3.0,\n",
       "  'Explanation': 'The RAG translation attempts to convey a sense of managing expectations but misses the core objective of seeking strategies specifically for improving user engagement. While it is somewhat clear and easy to understand, it lacks accuracy in capturing the intended meaning of the original statement. The translation does not fully address all crucial aspects, such as the emphasis on enhancing user engagement and maintaining focus, leading to a less relevant response overall.'},\n",
       " {'Criteria Scores': {'Accuracy': 4,\n",
       "   'Clarity': 5,\n",
       "   'Completeness': 4,\n",
       "   'Relevance': 5,\n",
       "   'Score': 4},\n",
       "  'Overall Score': 4.0,\n",
       "  'Explanation': 'The RAG system\\'s translation effectively captures the essence of the original vague statement and conveys the intended meaning well. The use of \"encourage\" is a good synonym for \"promote,\" although it slightly alters the emphasis; \"ignite\" suggests a more proactive approach. Overall, it’s a clear and straightforward translation that covers most of the important aspects.'},\n",
       " {'Criteria Scores': {'Accuracy': 4,\n",
       "   'Clarity': 5,\n",
       "   'Completeness': 4,\n",
       "   'Relevance': 5,\n",
       "   'Score': 4},\n",
       "  'Overall Score': 4.0,\n",
       "  'Explanation': 'The RAG translation effectively captures the essence of the original vague statement by clearly conveying the need to involve stakeholders and ensuring the strategy addresses concerns. The phrasing is clear and easily understandable. However, it could more explicitly incorporate the idea of addressing \"discrepancies,\" which slightly detracts from the completeness of the translation.',\n",
       "  'Improvement Suggestions': 'To enhance completeness, the translation could include a reference to \"discrepancies\" directly. For example, rephrasing it to say, \"We need to communicate with our stakeholders to ensure our strategy addresses any discrepancies or issues\" would provide more alignment with the original intent.'},\n",
       " {'Criteria Scores': {'Accuracy': 5,\n",
       "   'Clarity': 5,\n",
       "   'Completeness': 5,\n",
       "   'Relevance': 5,\n",
       "   'Score': 5},\n",
       "  'Overall Score': 5.0,\n",
       "  'Explanation': \"The RAG system's translation accurately captures the essential elements of the original vague statement, conveying that the aim is to enhance the user experience to be more engaging and visually striking. It maintains clarity and is straightforward, making it easy for stakeholders to understand the intended message. All key aspects of the actual meaning are addressed, including the focus on user engagement and visual appeal.\"}]"
      ]
     },
     "execution_count": 55,
     "metadata": {},
     "output_type": "execute_result"
    }
   ],
   "source": [
    "standard_rag_judged_results_parsed[:5]"
   ]
  },
  {
   "cell_type": "markdown",
   "metadata": {},
   "source": [
    "## Summary\n",
    "In what follows I wil use ambiguity_resolver rag."
   ]
  }
 ],
 "metadata": {
  "kernelspec": {
   "display_name": "llm-zoomcamp-sfbU5DAF",
   "language": "python",
   "name": "python3"
  },
  "language_info": {
   "codemirror_mode": {
    "name": "ipython",
    "version": 3
   },
   "file_extension": ".py",
   "mimetype": "text/x-python",
   "name": "python",
   "nbconvert_exporter": "python",
   "pygments_lexer": "ipython3",
   "version": "3.10.13"
  }
 },
 "nbformat": 4,
 "nbformat_minor": 2
}
