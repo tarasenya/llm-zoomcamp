{
 "cells": [
  {
   "cell_type": "code",
   "execution_count": 1,
   "metadata": {},
   "outputs": [],
   "source": [
    "import sys\n",
    "import os\n",
    "\n",
    "project_root = os.path.abspath(os.path.join(os.getcwd(), '..'))\n",
    "if project_root not in sys.path:\n",
    "    sys.path.insert(0, project_root)"
   ]
  },
  {
   "cell_type": "code",
   "execution_count": 4,
   "metadata": {},
   "outputs": [],
   "source": [
    "from src import rag, elastic_search_engine"
   ]
  },
  {
   "cell_type": "code",
   "execution_count": 5,
   "metadata": {},
   "outputs": [],
   "source": [
    "elastic_keyword_searcher = elastic_search_engine.ElasticKeywordSearcher(index_name='vague_actual_keyword')\n",
    "prompt_template = \"\"\"\n",
    "    Your are a translator from vague boss language into an everyday language. Translate\n",
    "    the VAGUE statement or question based on the CONTEXT. Provide a clear and concise answer.\n",
    "    VAGUE: {vague}\n",
    "    \n",
    "    CONTEXT: {context}\n",
    "    \"\"\".strip()\n",
    "    \n",
    "chatgpt_4o_mini = rag.ChatGPTRAG(elastic_keyword_searcher,\n",
    "                 prompt_template=prompt_template, \n",
    "                 llm_model='gpt-4o-mini')"
   ]
  },
  {
   "cell_type": "code",
   "execution_count": 8,
   "metadata": {},
   "outputs": [
    {
     "data": {
      "text/plain": [
       "'VAGUE: We need to become Speedy Gonzales and kick it into hyperdrive or we are going to be stuck in traffic.\\n\\nACTUAL: We need to accelerate our development process to meet project deadlines.'"
      ]
     },
     "execution_count": 8,
     "metadata": {},
     "output_type": "execute_result"
    }
   ],
   "source": [
    "chatgpt_4o_mini.rag_results('We need to become Speedy Gonzales and kick it into hyperdrive or we are going to be stuck in traffic.')"
   ]
  }
 ],
 "metadata": {
  "kernelspec": {
   "display_name": "src-SOtueW5z-py3.10",
   "language": "python",
   "name": "python3"
  },
  "language_info": {
   "codemirror_mode": {
    "name": "ipython",
    "version": 3
   },
   "file_extension": ".py",
   "mimetype": "text/x-python",
   "name": "python",
   "nbconvert_exporter": "python",
   "pygments_lexer": "ipython3",
   "version": "3.10.13"
  }
 },
 "nbformat": 4,
 "nbformat_minor": 2
}
