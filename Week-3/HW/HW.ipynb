{
 "cells": [
  {
   "cell_type": "markdown",
   "metadata": {},
   "source": [
    "## Homework: Vector Search\n",
    "\n",
    "In this homework, we'll experiemnt with vector with and without Elasticsearch\n",
    "\n",
    "> It's possible that your answers won't match exactly. If it's the case, select the closest one."
   ]
  },
  {
   "cell_type": "markdown",
   "metadata": {},
   "source": [
    "## Q1. Getting the embeddings model\n",
    "\n",
    "First, we will get the embeddings model `multi-qa-distilbert-cos-v1` from\n",
    "[the Sentence Transformer library](https://www.sbert.net/docs/sentence_transformer/pretrained_models.html#model-overview)\n",
    "\n",
    "```bash\n",
    "from sentence_transformers import SentenceTransformer\n",
    "embedding_model = SentenceTransformer(model_name)\n",
    "```\n",
    "\n",
    "Create the embedding for this user question:\n",
    "\n",
    "```python\n",
    "user_question = \"I just discovered the course. Can I still join it?\"\n",
    "```\n",
    "\n",
    "What's the first value of the resulting vector?\n",
    "\n",
    "* -0.24\n",
    "* -0.04\n",
    "* 0.07\n",
    "* 0.27\n"
   ]
  },
  {
   "cell_type": "code",
   "execution_count": 1,
   "metadata": {},
   "outputs": [
    {
     "data": {
      "application/vnd.jupyter.widget-view+json": {
       "model_id": "6efa3ea8ecf1467aa759cf6df4dc3179",
       "version_major": 2,
       "version_minor": 0
      },
      "text/plain": [
       "modules.json:   0%|          | 0.00/349 [00:00<?, ?B/s]"
      ]
     },
     "metadata": {},
     "output_type": "display_data"
    },
    {
     "data": {
      "application/vnd.jupyter.widget-view+json": {
       "model_id": "5290dbbc35614fa49be43ff94ff4b5b3",
       "version_major": 2,
       "version_minor": 0
      },
      "text/plain": [
       "config_sentence_transformers.json:   0%|          | 0.00/116 [00:00<?, ?B/s]"
      ]
     },
     "metadata": {},
     "output_type": "display_data"
    },
    {
     "data": {
      "application/vnd.jupyter.widget-view+json": {
       "model_id": "2f0965d2f64b4c978b036f238eb89bc0",
       "version_major": 2,
       "version_minor": 0
      },
      "text/plain": [
       "README.md:   0%|          | 0.00/9.52k [00:00<?, ?B/s]"
      ]
     },
     "metadata": {},
     "output_type": "display_data"
    },
    {
     "data": {
      "application/vnd.jupyter.widget-view+json": {
       "model_id": "e70f41e289f74f888da5221b16be6315",
       "version_major": 2,
       "version_minor": 0
      },
      "text/plain": [
       "sentence_bert_config.json:   0%|          | 0.00/53.0 [00:00<?, ?B/s]"
      ]
     },
     "metadata": {},
     "output_type": "display_data"
    },
    {
     "data": {
      "application/vnd.jupyter.widget-view+json": {
       "model_id": "d3042bd59df041f5b9ca319640b6f897",
       "version_major": 2,
       "version_minor": 0
      },
      "text/plain": [
       "config.json:   0%|          | 0.00/523 [00:00<?, ?B/s]"
      ]
     },
     "metadata": {},
     "output_type": "display_data"
    },
    {
     "data": {
      "application/vnd.jupyter.widget-view+json": {
       "model_id": "5b4579a5e5374d0397168132fd1bca7e",
       "version_major": 2,
       "version_minor": 0
      },
      "text/plain": [
       "model.safetensors:   0%|          | 0.00/265M [00:00<?, ?B/s]"
      ]
     },
     "metadata": {},
     "output_type": "display_data"
    },
    {
     "data": {
      "application/vnd.jupyter.widget-view+json": {
       "model_id": "c4323e9113444e3b8224e5298868dd20",
       "version_major": 2,
       "version_minor": 0
      },
      "text/plain": [
       "tokenizer_config.json:   0%|          | 0.00/333 [00:00<?, ?B/s]"
      ]
     },
     "metadata": {},
     "output_type": "display_data"
    },
    {
     "data": {
      "application/vnd.jupyter.widget-view+json": {
       "model_id": "8a9922c601e54e85b800a68899d61fab",
       "version_major": 2,
       "version_minor": 0
      },
      "text/plain": [
       "vocab.txt:   0%|          | 0.00/232k [00:00<?, ?B/s]"
      ]
     },
     "metadata": {},
     "output_type": "display_data"
    },
    {
     "data": {
      "application/vnd.jupyter.widget-view+json": {
       "model_id": "2b47423b1cac4aeea2afdf78384715af",
       "version_major": 2,
       "version_minor": 0
      },
      "text/plain": [
       "tokenizer.json:   0%|          | 0.00/466k [00:00<?, ?B/s]"
      ]
     },
     "metadata": {},
     "output_type": "display_data"
    },
    {
     "data": {
      "application/vnd.jupyter.widget-view+json": {
       "model_id": "6e71237d5af14a728569ee37cdef78de",
       "version_major": 2,
       "version_minor": 0
      },
      "text/plain": [
       "special_tokens_map.json:   0%|          | 0.00/112 [00:00<?, ?B/s]"
      ]
     },
     "metadata": {},
     "output_type": "display_data"
    },
    {
     "data": {
      "application/vnd.jupyter.widget-view+json": {
       "model_id": "a729fff99ccc437fb36a035824edcbd0",
       "version_major": 2,
       "version_minor": 0
      },
      "text/plain": [
       "1_Pooling/config.json:   0%|          | 0.00/190 [00:00<?, ?B/s]"
      ]
     },
     "metadata": {},
     "output_type": "display_data"
    },
    {
     "data": {
      "text/plain": [
       "array([ 7.82226473e-02, -4.01311293e-02,  3.86136137e-02, -1.78970833e-04,\n",
       "        8.92347172e-02, -5.04591428e-02, -1.05026681e-02,  3.71055827e-02,\n",
       "       -4.18714173e-02,  3.48084904e-02, -1.20702032e-02, -2.36942321e-02,\n",
       "        3.87899950e-02,  1.60988551e-02,  3.50747146e-02,  3.04745534e-03,\n",
       "        5.79672232e-02, -4.10627797e-02, -3.41552868e-02, -2.56396439e-02,\n",
       "       -3.55263948e-02,  1.42908022e-02, -1.62799992e-02,  3.21446508e-02,\n",
       "       -4.66897562e-02,  7.89185837e-02,  4.90160771e-02,  1.56760998e-02,\n",
       "       -1.69110019e-02,  2.26482283e-02,  5.60206063e-02, -3.98361236e-02,\n",
       "        6.77410141e-02, -1.20209949e-02,  1.12621672e-03, -1.94394086e-02,\n",
       "       -2.65951827e-02,  1.06177302e-02,  1.69687141e-02,  1.13487961e-02,\n",
       "       -2.97063086e-02,  5.25258183e-02, -1.41453780e-02,  4.61700000e-02,\n",
       "        1.17066121e-02, -2.38053426e-02, -6.32558167e-02, -1.92042161e-02,\n",
       "       -7.10591627e-03,  3.24167982e-02,  2.49618143e-02, -5.27502736e-03,\n",
       "        2.01149117e-02, -3.72371189e-02,  3.46405283e-02, -3.29310335e-02,\n",
       "       -2.01484617e-02,  5.07841492e-03, -4.55506556e-02,  7.89167825e-03,\n",
       "       -4.91713770e-02,  4.69897203e-02, -3.79521907e-06,  2.48839334e-02,\n",
       "       -2.96471491e-02,  6.69759652e-03,  3.58087644e-02, -7.18094595e-03,\n",
       "       -3.03277262e-02,  7.95786921e-03,  3.36150639e-02, -2.25491282e-02,\n",
       "       -3.62098105e-02, -2.03929022e-02, -2.70679942e-03, -8.15982074e-02,\n",
       "       -1.43993208e-02,  4.90568615e-02, -2.11568661e-02,  9.31670482e-04,\n",
       "        6.57264590e-02,  4.69610021e-02,  1.23655479e-02, -2.84593198e-02,\n",
       "       -2.57528741e-02,  1.46925859e-02, -5.53987473e-02, -3.05970479e-02,\n",
       "        5.75574152e-02,  2.81941332e-02, -1.30106900e-02, -2.08614822e-02,\n",
       "       -2.43033860e-02, -2.40275078e-02,  4.11576852e-02, -5.92422709e-02,\n",
       "       -1.69008493e-03,  4.00552079e-02,  2.43852846e-02, -1.10905003e-02,\n",
       "       -2.93892808e-02,  2.01826673e-02,  4.22846945e-03,  2.95343418e-02,\n",
       "        3.16523276e-02,  3.00929993e-02,  8.98854062e-03, -8.30621272e-02,\n",
       "       -2.24144384e-02,  1.82182845e-02, -5.66515699e-02, -4.21272032e-02,\n",
       "        3.27232704e-02, -2.10854523e-02, -4.79221810e-03,  1.90163329e-02,\n",
       "        4.55397479e-02, -9.62484814e-03, -2.30316054e-02, -3.52343209e-02,\n",
       "       -3.91419008e-02, -3.46547998e-02,  2.47355159e-02,  4.71566729e-02,\n",
       "        3.46270762e-02,  5.29964082e-02, -2.86405478e-02, -1.71784908e-02,\n",
       "       -1.30146118e-02, -5.79404347e-02,  3.99250500e-02, -5.88766523e-02,\n",
       "        4.57601622e-02,  2.09622122e-02, -1.52760008e-02,  3.25415134e-02,\n",
       "        2.08252985e-02, -2.48041973e-02, -4.24147211e-02,  2.95955036e-02,\n",
       "       -4.62034382e-02,  3.17028761e-02, -7.64971785e-03,  5.84934745e-03,\n",
       "       -3.90673950e-02,  8.11777730e-03, -3.60446833e-02,  6.34326041e-02,\n",
       "       -4.23139185e-02, -1.57088274e-03,  9.18294117e-03, -2.99421214e-02,\n",
       "       -2.27955375e-02, -9.86715686e-03,  2.94452570e-02,  1.75152961e-02,\n",
       "       -1.93444714e-02,  2.40450036e-02,  2.92803179e-02,  4.78769973e-04,\n",
       "        2.55402811e-02, -3.34960297e-02,  3.04799825e-02, -9.45276394e-03,\n",
       "        3.35257240e-02,  5.77760600e-02, -1.58551112e-02, -7.15148300e-02,\n",
       "        6.71659887e-04, -7.77695701e-03, -5.37220426e-02, -1.58578753e-02,\n",
       "        2.93348804e-02, -5.35059646e-02, -2.82785147e-02, -3.81729007e-02,\n",
       "        1.05942914e-03,  3.31669580e-03,  2.60325335e-02, -2.05704309e-02,\n",
       "       -2.55043861e-02, -2.73665581e-02,  2.12153140e-02, -3.17961648e-02,\n",
       "       -2.71619279e-02, -3.00257262e-02, -5.35570234e-02,  1.62939448e-02,\n",
       "        2.55571422e-03,  7.67827928e-02,  3.24226320e-02,  3.80413905e-02,\n",
       "       -2.25355718e-02, -4.81641777e-02,  2.26790514e-02,  1.25548439e-02,\n",
       "       -4.78155911e-02,  4.13825922e-02, -9.52938292e-03,  3.37111205e-02,\n",
       "        3.21243405e-02,  5.91824614e-02, -7.25298449e-02, -7.38687115e-03,\n",
       "       -3.22184563e-02,  3.09309289e-02,  5.23214079e-02,  3.24243754e-02,\n",
       "       -3.95455286e-02, -2.63985377e-02, -2.35442985e-02,  2.39195162e-03,\n",
       "        3.20997201e-02,  8.44292901e-03,  9.85344313e-03,  1.95927490e-02,\n",
       "        3.99371907e-02,  4.52750325e-02,  3.52183916e-02,  1.67367607e-02,\n",
       "        2.65720990e-02, -8.88593029e-03, -1.27366986e-02, -5.89371137e-02,\n",
       "       -2.89509539e-02,  2.18168125e-02, -4.62896526e-02, -5.12741320e-03,\n",
       "       -2.73846313e-02, -4.35681008e-02, -3.33959796e-02,  2.61665159e-03,\n",
       "        6.77051917e-02, -6.68665068e-03,  4.25815657e-02, -8.47998727e-03,\n",
       "       -4.45969999e-02, -4.92077284e-02,  2.54241414e-02,  3.41309272e-02,\n",
       "        4.66176532e-02,  3.41222547e-02, -3.89920287e-02,  6.68450892e-02,\n",
       "        6.32637814e-02, -1.53560778e-02, -6.43537496e-04,  1.88045092e-02,\n",
       "        1.10457428e-02, -2.76161507e-02,  4.89472188e-02, -6.65619373e-02,\n",
       "        4.41556517e-03, -8.06404371e-03, -7.56583065e-02,  5.20581752e-02,\n",
       "       -1.68674625e-02, -1.51840886e-02,  2.59556286e-02,  4.38799150e-03,\n",
       "        1.29939616e-02,  2.37958115e-02, -3.92605662e-02,  3.40804737e-03,\n",
       "       -4.65255380e-02, -5.80669381e-02, -4.86324355e-02,  3.85592766e-02,\n",
       "        1.58163514e-02, -3.55917849e-02, -6.13348931e-02, -4.66559455e-02,\n",
       "        3.48289050e-02, -3.00835464e-02, -3.80521864e-02,  5.35570793e-02,\n",
       "       -4.42223214e-02, -4.11476828e-02,  2.34690048e-02,  4.05184546e-05,\n",
       "       -2.18803831e-03, -2.06343480e-03, -4.33782451e-02, -6.21983723e-04,\n",
       "       -4.64339592e-02,  8.27862993e-02, -1.49072632e-02,  3.24270837e-02,\n",
       "        1.35792745e-02, -1.49164989e-03,  8.62602741e-02,  6.92182630e-02,\n",
       "        4.57405625e-03,  3.55521217e-03,  6.91157356e-02, -9.68690962e-02,\n",
       "        3.21001112e-02, -1.90142710e-02,  7.19640329e-02,  7.18858764e-02,\n",
       "        2.10939087e-02, -8.37234838e-04, -2.27937121e-02,  1.27857588e-02,\n",
       "        9.23394337e-02, -5.41783907e-02,  4.61493805e-02, -7.08941557e-03,\n",
       "       -3.20987105e-02, -3.81699428e-02, -4.22405638e-02,  5.16356416e-02,\n",
       "        1.07125090e-02, -5.59868664e-02, -2.29028258e-02,  3.15916650e-02,\n",
       "       -5.60135394e-02,  1.22198844e-02, -1.85765587e-02, -3.86149832e-03,\n",
       "        5.66245802e-02,  3.09960172e-02,  3.28162685e-02,  5.95071316e-02,\n",
       "       -1.15265688e-02,  2.45991051e-02,  1.98688940e-03,  3.61350551e-02,\n",
       "        7.19022453e-02,  6.74677268e-03, -2.22809091e-02,  3.80802676e-02,\n",
       "       -3.19979079e-02,  4.77899648e-02, -4.88462187e-02, -2.62966435e-02,\n",
       "       -9.14799701e-03, -3.70225310e-02, -2.10672952e-02,  3.66252474e-02,\n",
       "       -2.93568079e-03,  1.90015603e-02, -4.06738482e-02, -9.88847390e-03,\n",
       "       -1.32069783e-02, -1.84205752e-02, -3.04456800e-02, -1.17647890e-02,\n",
       "       -2.16220636e-02, -1.32908178e-02, -4.90810573e-02,  3.75495106e-02,\n",
       "        2.36799121e-02,  6.20987406e-03,  1.94518901e-02,  1.11171305e-02,\n",
       "       -1.27271181e-02, -1.16941305e-02, -4.15579267e-02,  3.03729810e-03,\n",
       "        3.35785374e-02,  2.02150717e-02, -5.23533709e-02, -1.03417821e-02,\n",
       "       -3.44100334e-02, -1.83595121e-02,  1.93088769e-03,  3.44448276e-02,\n",
       "       -2.83048153e-02,  7.25742104e-03,  5.40009029e-02, -2.32120585e-02,\n",
       "       -2.37849206e-02,  5.14850579e-03, -1.04726749e-02, -3.04511189e-02,\n",
       "       -1.45228179e-02,  5.83772063e-02,  6.24930160e-03,  1.76533479e-02,\n",
       "        2.71377657e-02, -2.07602624e-02, -4.82954178e-03,  4.38607596e-02,\n",
       "        4.89790775e-02, -1.84726082e-02,  2.23985333e-02,  2.48786863e-02,\n",
       "       -7.83606246e-03,  2.70838458e-02,  8.69912580e-02,  5.14607914e-02,\n",
       "        2.68816520e-02, -2.45199036e-02,  1.98570825e-02,  2.55423021e-02,\n",
       "       -4.49709520e-02,  1.18260197e-02, -5.71240671e-02,  6.86878040e-02,\n",
       "        2.32738387e-02,  4.34287451e-02,  1.60184558e-02,  3.36551480e-02,\n",
       "        1.18744932e-02,  1.84787456e-02,  2.18717866e-02,  8.06101598e-03,\n",
       "        2.65187044e-02, -1.67911109e-02, -1.14257792e-02,  5.79695925e-02,\n",
       "        2.19955686e-02, -7.88591877e-02,  4.26271483e-02, -7.00563341e-02,\n",
       "        5.12132384e-02,  2.96157692e-02,  4.99608479e-02,  9.40515008e-03,\n",
       "       -4.73498330e-02,  4.21217084e-02, -1.81927141e-02, -7.69211128e-02,\n",
       "        9.72864125e-03, -6.79067522e-02,  1.55991707e-02,  2.72873100e-02,\n",
       "        4.54439875e-03, -2.10020388e-03,  7.53396749e-02,  1.33479992e-03,\n",
       "       -1.99394897e-02, -5.24484627e-02,  3.05676251e-03,  1.98292099e-02,\n",
       "        2.39940677e-02,  1.24235908e-02,  1.47050209e-02,  1.03529524e-02,\n",
       "       -4.38815430e-02,  4.75225747e-02,  3.21548879e-02,  6.52120623e-04,\n",
       "       -2.02529728e-02,  4.32258882e-02, -2.71596853e-02,  1.38091808e-02,\n",
       "       -3.86391543e-02,  2.84993276e-02, -2.27448880e-03,  3.99671830e-02,\n",
       "        1.53477117e-02,  1.32416068e-02, -7.11276680e-02,  3.93648557e-02,\n",
       "        2.51131598e-02, -2.36388277e-02,  1.80941578e-02, -2.43954435e-02,\n",
       "        2.19316455e-03,  3.75052057e-02,  1.56092057e-02,  7.14065181e-03,\n",
       "       -3.41359973e-02,  7.57617410e-03,  2.62274500e-02,  1.14289317e-02,\n",
       "        3.52655649e-02,  2.13688565e-03, -4.56285384e-03, -2.63882633e-02,\n",
       "        6.55588806e-02,  6.00263737e-02, -3.54714543e-02, -1.01350555e-02,\n",
       "        2.56269053e-02, -1.02697201e-01,  3.54785249e-02, -6.22319616e-02,\n",
       "       -1.14733754e-02, -3.44267651e-03,  1.05506775e-03, -2.81983824e-03,\n",
       "        6.26723096e-02, -4.57265750e-02,  1.70462932e-02, -8.05483013e-02,\n",
       "        1.55107845e-02, -2.58689630e-04,  2.01547183e-02,  8.79567116e-03,\n",
       "        2.62557901e-02,  8.31571408e-04, -3.23720314e-02, -5.27925640e-02,\n",
       "        1.55638568e-02,  1.15739265e-02, -2.99573154e-03, -8.24661646e-03,\n",
       "       -3.26189175e-02, -7.73414671e-02, -4.12966833e-02, -2.21012495e-02,\n",
       "        4.75404784e-03, -1.25991274e-02,  1.07523603e-02,  4.99581695e-02,\n",
       "        2.15218868e-02,  2.69317571e-02,  3.28039043e-02,  7.46344775e-03,\n",
       "        1.83876809e-02, -2.74958014e-02, -9.13318805e-03, -1.22790653e-02,\n",
       "        2.07576156e-02,  1.40682021e-02,  1.09913917e-02, -2.26452313e-02,\n",
       "        6.41365871e-02, -1.79608203e-02, -4.23230305e-02, -1.88529294e-03,\n",
       "       -3.59299891e-02,  1.20294271e-02,  1.00361435e-02,  6.56100512e-02,\n",
       "        2.87165977e-02,  2.78465301e-02, -5.23850024e-02,  3.18163373e-02,\n",
       "       -4.65675853e-02,  1.38317021e-02,  2.83224583e-02,  7.78381759e-03,\n",
       "       -9.74421762e-03, -3.97435911e-02, -2.49803923e-02, -2.32911408e-02,\n",
       "       -2.11588964e-02, -6.84603024e-03, -1.95434969e-02, -2.29272079e-02,\n",
       "       -1.46510052e-02, -2.22448818e-02, -1.09536499e-02, -3.67134623e-02,\n",
       "       -1.84324589e-02, -1.04103116e-02, -8.88100266e-03, -1.47620728e-02,\n",
       "       -2.92524006e-02,  1.00569809e-02,  2.28201263e-02,  1.42324180e-03,\n",
       "       -2.35474817e-02, -2.39605475e-02,  5.40141463e-02, -2.16813199e-02,\n",
       "        1.94904655e-02, -3.11478917e-02, -1.54089909e-02, -1.45636089e-02,\n",
       "        5.81609979e-02,  3.05503011e-02, -5.09663858e-03, -1.68099739e-02,\n",
       "       -3.46655287e-02, -2.07241122e-02, -4.60087657e-02,  2.22175685e-03,\n",
       "       -4.44852747e-02,  1.13986665e-02,  3.25434692e-02, -7.11341426e-02,\n",
       "       -2.52612643e-02, -1.93928946e-02,  1.29123582e-02, -3.82378474e-02,\n",
       "       -1.61821190e-02,  3.58506739e-02,  5.04317246e-02, -4.06113174e-03,\n",
       "        1.62504259e-02, -7.24662393e-02,  2.72171814e-02,  1.78223401e-02,\n",
       "        1.37029020e-02,  2.36819722e-02,  2.59892903e-02,  4.08843011e-02,\n",
       "        6.46981131e-03, -1.15187969e-02, -2.65878960e-02,  9.67549998e-03,\n",
       "       -5.31226173e-02,  8.27142445e-04,  1.87265947e-02, -2.92988378e-03,\n",
       "        2.49404982e-02, -1.47512648e-02,  1.41259208e-02,  4.05030437e-02,\n",
       "       -1.27288532e-02, -6.76722676e-02,  4.83829565e-02,  4.07700390e-02,\n",
       "        1.98605303e-02,  3.03294044e-02,  2.63721235e-02,  5.23594394e-02,\n",
       "       -3.34631279e-02, -9.35078319e-03,  1.69177484e-02,  4.34683524e-02,\n",
       "        3.83584872e-02,  4.47562598e-02,  1.90879200e-02, -1.47993565e-02,\n",
       "       -4.34139324e-03,  1.08403517e-02,  4.95931553e-03, -1.63312461e-02,\n",
       "       -1.97146274e-03, -4.17675227e-02,  6.56750947e-02, -6.79403096e-02,\n",
       "        4.33394359e-03, -1.69463381e-02,  2.51758974e-02,  2.56763790e-02,\n",
       "        1.15082832e-03, -1.54735530e-02, -7.34511530e-03, -5.32572716e-02,\n",
       "        3.48776369e-03, -1.38180237e-02, -5.89082092e-02,  2.92865606e-03,\n",
       "        5.04819192e-02,  3.35813942e-03, -8.88556466e-02, -3.84001173e-02,\n",
       "       -2.22147927e-02, -2.82134321e-02, -5.42563386e-03,  2.85600722e-02,\n",
       "       -4.50810529e-02,  7.93288345e-04,  8.93172622e-02,  1.16104847e-02,\n",
       "       -3.18008661e-02,  2.66567860e-02,  2.71802619e-02,  1.89267416e-02,\n",
       "       -2.06058361e-02, -3.02396473e-02, -2.85009649e-02, -3.13029960e-02,\n",
       "       -1.97963137e-02, -6.64773444e-03, -1.67978276e-02, -1.99807845e-02,\n",
       "       -5.34575656e-02, -4.45686892e-04, -2.96823028e-02,  4.37867492e-02,\n",
       "       -1.00504123e-02, -1.09997382e-02,  2.21026111e-02, -3.46549042e-02,\n",
       "        2.11835746e-02,  1.56232761e-02,  2.64695249e-02, -2.34831404e-02,\n",
       "        2.44938135e-02,  4.38888296e-02,  7.06144189e-03, -1.21593373e-02,\n",
       "        1.87902227e-02, -6.91951672e-03,  1.30047696e-02,  1.27160791e-02,\n",
       "       -2.23633763e-03,  2.10030712e-02,  6.99695945e-02,  3.16452421e-02,\n",
       "       -2.35833097e-02,  4.63550678e-03, -6.60421094e-03, -3.26112285e-02,\n",
       "        7.33723342e-02, -8.55091363e-02, -4.05770466e-02,  2.57487446e-02,\n",
       "       -5.12588806e-02,  6.70370236e-02, -1.24506159e-02, -8.91838595e-02,\n",
       "        5.48583232e-02, -4.54949960e-02, -3.45565267e-02, -7.73074925e-02,\n",
       "        4.11657766e-02, -4.30639572e-02,  2.70703193e-02,  3.20440046e-02,\n",
       "       -4.77702059e-02, -1.56586133e-02,  1.72706973e-02, -5.23967147e-02,\n",
       "       -7.17989653e-02,  4.30011330e-03,  7.25641876e-05,  5.29346839e-02,\n",
       "       -3.14253420e-02,  1.90561153e-02,  2.56206486e-02,  7.90970176e-02,\n",
       "        2.13809423e-02, -2.44315546e-02, -1.42572941e-02,  3.64167131e-02,\n",
       "        4.89886776e-02,  2.09607650e-02, -4.13178988e-02,  4.09340784e-02,\n",
       "       -1.21459857e-01,  6.68874681e-02, -3.10822827e-04, -6.26350939e-03,\n",
       "        3.98600549e-02,  5.48594706e-02, -1.15817986e-01,  5.31956516e-02,\n",
       "       -4.32696603e-02,  4.33376357e-02,  2.90152859e-02, -8.89771581e-02,\n",
       "       -2.17882358e-02,  1.54281212e-02,  3.62119861e-02, -9.14942175e-02,\n",
       "       -3.93843558e-03, -3.60860527e-02, -7.26095913e-03,  8.90836958e-03,\n",
       "       -5.32953702e-02,  3.61573063e-02,  8.56206119e-02, -1.42062129e-02,\n",
       "        2.44349204e-02,  1.94477371e-03,  5.81037663e-02, -2.16630753e-02,\n",
       "        2.43256427e-02, -2.31524650e-03, -1.37544994e-03,  5.89746349e-02,\n",
       "        8.06518737e-03, -5.71864611e-03,  2.14907564e-02, -2.76927464e-02,\n",
       "       -3.97252515e-02,  3.13827917e-02,  1.40225922e-03,  5.06811105e-02],\n",
       "      dtype=float32)"
      ]
     },
     "execution_count": 1,
     "metadata": {},
     "output_type": "execute_result"
    }
   ],
   "source": [
    "\n",
    "from sentence_transformers import SentenceTransformer\n",
    "\n",
    "model_name = 'multi-qa-distilbert-cos-v1'\n",
    "embedding_model = SentenceTransformer(model_name)\n",
    "\n",
    "user_question = \"I just discovered the course. Can I still join it?\""
   ]
  },
  {
   "cell_type": "code",
   "execution_count": 4,
   "metadata": {},
   "outputs": [
    {
     "name": "stdout",
     "output_type": "stream",
     "text": [
      "The first values is -0.04013112932443619\n"
     ]
    }
   ],
   "source": [
    "encoded_user_question = embedding_model.encode(user_question)\n",
    "print(f'The first values is {encoded_user_question[1]}')"
   ]
  },
  {
   "cell_type": "markdown",
   "metadata": {},
   "source": [
    "## Prepare the documents\n",
    "\n",
    "Now we will create the embeddings for the documents.\n",
    "\n",
    "Load the documents with ids that we prepared in the module:\n",
    "\n",
    "We will use only a subset of the questions - the questions\n",
    "for `\"machine-learning-zoomcamp\"`. After filtering, you should\n",
    "have only 375 documents"
   ]
  },
  {
   "cell_type": "code",
   "execution_count": 5,
   "metadata": {},
   "outputs": [],
   "source": [
    "import requests \n",
    "\n",
    "base_url = 'https://github.com/DataTalksClub/llm-zoomcamp/blob/main'\n",
    "relative_url = '03-vector-search/eval/documents-with-ids.json'\n",
    "docs_url = f'{base_url}/{relative_url}?raw=1'\n",
    "\n",
    "docs_response = requests.get(docs_url)\n",
    "documents = docs_response.json()"
   ]
  },
  {
   "cell_type": "code",
   "execution_count": 8,
   "metadata": {},
   "outputs": [
    {
     "name": "stdout",
     "output_type": "stream",
     "text": [
      "375\n"
     ]
    }
   ],
   "source": [
    "relevant_documents = [doc for doc in documents if doc['course'] == 'machine-learning-zoomcamp']\n",
    "print(len(relevant_documents))"
   ]
  },
  {
   "cell_type": "markdown",
   "metadata": {},
   "source": [
    "## Q2. Creating the embeddings\n",
    "\n",
    "Now for each document, we will create an embedding for both question and answer fields.\n",
    "\n",
    "We want to put all of them into a single matrix `X`:\n",
    "\n",
    "- Create a list `embeddings` \n",
    "- Iterate over each document \n",
    "- `qa_text = f'{question} {text}'`\n",
    "- compute the embedding for `qa_text`, append to `embeddings`\n",
    "- At the end, let `X = np.array(embeddings)` (`import numpy as np`) \n",
    "\n",
    "What's the shape of X? (`X.shape`). Include the parantheses. "
   ]
  },
  {
   "cell_type": "code",
   "execution_count": 9,
   "metadata": {},
   "outputs": [
    {
     "name": "stdout",
     "output_type": "stream",
     "text": [
      "(375, 768)\n"
     ]
    }
   ],
   "source": [
    "import numpy as np\n",
    "\n",
    "embeddings =  []\n",
    "for doc in relevant_documents:\n",
    "    qa_text = f'{doc[\"question\"]} {doc[\"text\"]}'\n",
    "    embeddings.append(embedding_model.encode(qa_text))\n",
    "\n",
    "X = np.array(embeddings)\n",
    "print(X.shape)"
   ]
  },
  {
   "cell_type": "markdown",
   "metadata": {},
   "source": [
    "The shape equals (375, 768)"
   ]
  },
  {
   "cell_type": "markdown",
   "metadata": {},
   "source": [
    "## Q3. Search\n",
    "\n",
    "We have the embeddings and the query vector. Now let's compute the \n",
    "cosine similarity between the vector from Q1 (let's call it `v`) and the matrix from Q2. \n",
    "\n",
    "The vectors returned from the embedding model are already\n",
    "normalized (you can check it by computing a dot product of a vector\n",
    "with itself - it should return something very close to 1.0). This means that in order\n",
    "to compute the coside similarity, it's sufficient to \n",
    "multiply the matrix `X` by the vector `v`:\n",
    "\n",
    "\n",
    "```python\n",
    "scores = X.dot(v)\n",
    "```\n",
    "\n",
    "What's the highest score in the results?\n",
    "\n",
    "- 65.0 \n",
    "- 6.5\n",
    "- 0.65\n",
    "- 0.065\n"
   ]
  },
  {
   "cell_type": "code",
   "execution_count": 12,
   "metadata": {},
   "outputs": [
    {
     "name": "stdout",
     "output_type": "stream",
     "text": [
      "The highest result is 0.6506572961807251\n"
     ]
    }
   ],
   "source": [
    "print(f'The highest result is {X.dot(encoded_user_question).max()}')"
   ]
  },
  {
   "cell_type": "markdown",
   "metadata": {},
   "source": [
    "\n",
    "\n",
    "## Vector search\n",
    "\n",
    "We can now compute the similarity between a query vector and all the embeddings.\n",
    "\n",
    "Let's use this to implement our own vector search\n",
    "\n",
    "```python\n",
    "class VectorSearchEngine():\n",
    "    def __init__(self, documents, embeddings):\n",
    "        self.documents = documents\n",
    "        self.embeddings = embeddings\n",
    "\n",
    "    def search(self, v_query, num_results=10):\n",
    "        scores = self.embeddings.dot(v_query)\n",
    "        idx = np.argsort(-scores)[:num_results]\n",
    "        return [self.documents[i] for i in idx]\n",
    "\n",
    "search_engine = VectorSearchEngine(documents=documents, embeddings=X)\n",
    "search_engine.search(v, num_results=5)\n",
    "```\n",
    "\n",
    "If you don't understand how the `search` function work:\n",
    "\n",
    "* Ask ChatGTP or any other LLM of your choice to explain the code\n",
    "* Check our pre-course workshop about implementing a search engine [here](https://github.com/alexeygrigorev/build-your-own-search-engine)\n",
    "\n",
    "(Note: you can replace `argsort` with `argpartition` to make it a lot faster)"
   ]
  },
  {
   "cell_type": "code",
   "execution_count": 13,
   "metadata": {},
   "outputs": [],
   "source": [
    "class VectorSearchEngine():\n",
    "    def __init__(self, documents, embeddings):\n",
    "        self.documents = documents\n",
    "        self.embeddings = embeddings\n",
    "\n",
    "    def search(self, v_query, num_results=10):\n",
    "        scores = self.embeddings.dot(v_query)\n",
    "        idx = np.argsort(-scores)[:num_results]\n",
    "        return [self.documents[i] for i in idx]\n",
    "    "
   ]
  },
  {
   "cell_type": "code",
   "execution_count": 16,
   "metadata": {},
   "outputs": [
    {
     "data": {
      "text/plain": [
       "[{'text': 'Yes, you can. You won’t be able to submit some of the homeworks, but you can still take part in the course.\\nIn order to get a certificate, you need to submit 2 out of 3 course projects and review 3 peers’ Projects by the deadline. It means that if you join the course at the end of November and manage to work on two projects, you will still be eligible for a certificate.',\n",
       "  'section': 'General course-related questions',\n",
       "  'question': 'The course has already started. Can I still join it?',\n",
       "  'course': 'machine-learning-zoomcamp',\n",
       "  'id': 'ee58a693'},\n",
       " {'text': 'Welcome to the course! Go to the course page (http://mlzoomcamp.com/), scroll down and start going through the course materials. Then read everything in the cohort folder for your cohort’s year.\\nClick on the links and start watching the videos. Also watch office hours from previous cohorts. Go to DTC youtube channel and click on Playlists and search for {course yyyy}. ML Zoomcamp was first launched in 2021.\\nOr you can just use this link: http://mlzoomcamp.com/#syllabus',\n",
       "  'section': 'General course-related questions',\n",
       "  'question': 'I just joined. What should I do next? How can I access course materials?',\n",
       "  'course': 'machine-learning-zoomcamp',\n",
       "  'id': '0a278fb2'},\n",
       " {'text': \"The process is automated now, so you should receive the email eventually. If you haven’t, check your promotions tab in Gmail as well as spam.\\nIf you unsubscribed from our newsletter, you won't get course related updates too.\\nBut don't worry, it’s not a problem. To make sure you don’t miss anything, join the #course-ml-zoomcamp channel in Slack and our telegram channel with announcements. This is enough to follow the course.\",\n",
       "  'section': 'General course-related questions',\n",
       "  'question': \"I filled the form, but haven't received a confirmation email. Is it normal?\",\n",
       "  'course': 'machine-learning-zoomcamp',\n",
       "  'id': '6ba259b1'},\n",
       " {'text': 'Technically, yes. Advisable? Not really. Reasons:\\nSome homework(s) asks for specific python library versions.\\nAnswers may not match in MCQ options if using different languages other than Python 3.10 (the recommended version for 2023 cohort)\\nAnd as for midterms/capstones, your peer-reviewers may not know these other languages. Do you want to be penalized for others not knowing these other languages?\\nYou can create a separate repo using course’s lessons but written in other languages for your own learnings, but not advisable for submissions.\\ntx[source]',\n",
       "  'section': 'Miscellaneous',\n",
       "  'question': 'Can I do the course in other languages, like R or Scala?',\n",
       "  'course': 'machine-learning-zoomcamp',\n",
       "  'id': '9f261648'},\n",
       " {'text': 'We won’t re-record the course videos. The focus of the course and the skills we want to teach remained the same, and the videos are still up-to-date.\\nIf you haven’t taken part in the previous iteration, you can start watching the videos. It’ll be useful for you and you will learn new things. However, we recommend using Python 3.10 now instead of Python 3.8.',\n",
       "  'section': 'General course-related questions',\n",
       "  'question': 'The course videos are from the previous iteration. Will you release new ones or we’ll use the videos from 2021?',\n",
       "  'course': 'machine-learning-zoomcamp',\n",
       "  'id': 'e7ba6b8a'}]"
      ]
     },
     "execution_count": 16,
     "metadata": {},
     "output_type": "execute_result"
    }
   ],
   "source": [
    "search_engine = VectorSearchEngine(documents=relevant_documents, embeddings=X)\n",
    "search_engine.search(encoded_user_question, num_results=5)"
   ]
  },
  {
   "cell_type": "markdown",
   "metadata": {},
   "source": [
    "## Q4. Hit-rate for our search engine\n",
    "\n",
    "Let's evaluate the performance of our own search engine. We will\n",
    "use the hitrate metric for evaluation.\n",
    "\n",
    "First, load the ground truth dataset:\n",
    "\n",
    "\n",
    "Now use the code from the module to calculate the hitrate of\n",
    "`VectorSearchEngine` with `num_results=5`.\n",
    "\n",
    "What did you get?\n",
    "\n",
    "* 0.93\n",
    "* 0.73\n",
    "* 0.53\n",
    "* 0.33"
   ]
  },
  {
   "cell_type": "code",
   "execution_count": 17,
   "metadata": {},
   "outputs": [],
   "source": [
    "import pandas as pd\n",
    "\n",
    "base_url = 'https://github.com/DataTalksClub/llm-zoomcamp/blob/main'\n",
    "relative_url = '03-vector-search/eval/ground-truth-data.csv'\n",
    "ground_truth_url = f'{base_url}/{relative_url}?raw=1'\n",
    "\n",
    "df_ground_truth = pd.read_csv(ground_truth_url)\n",
    "df_ground_truth = df_ground_truth[df_ground_truth.course == 'machine-learning-zoomcamp']\n",
    "ground_truth = df_ground_truth.to_dict(orient='records')"
   ]
  },
  {
   "cell_type": "code",
   "execution_count": 44,
   "metadata": {},
   "outputs": [
    {
     "data": {
      "text/plain": [
       "{'question': 'Where can I sign up for the course?',\n",
       " 'course': 'machine-learning-zoomcamp',\n",
       " 'document': '0227b872'}"
      ]
     },
     "execution_count": 44,
     "metadata": {},
     "output_type": "execute_result"
    }
   ],
   "source": [
    "ground_truth[0]"
   ]
  },
  {
   "cell_type": "code",
   "execution_count": 37,
   "metadata": {},
   "outputs": [],
   "source": [
    "from tqdm.auto import tqdm\n",
    "\n",
    "def hit_rate(relevance_total):\n",
    "    cnt = 0\n",
    "\n",
    "    for line in relevance_total:\n",
    "        if True in line:\n",
    "            cnt = cnt + 1\n",
    "\n",
    "    return cnt / len(relevance_total)\n",
    "\n",
    "def encode_and_evaluate(ground_truth, search_function):\n",
    "    relevance_total = []\n",
    "\n",
    "    for q in tqdm(ground_truth):\n",
    "        doc_id = q['document']\n",
    "        results = search_function(embedding_model.encode(q['question']))\n",
    "        relevance = [d['id'] == doc_id for d in results]\n",
    "        relevance_total.append(relevance)\n",
    "\n",
    "    return {\n",
    "        'hit_rate': hit_rate(relevance_total),\n",
    "    }\n",
    "\n",
    "def evaluate(ground_truth, search_function):\n",
    "    relevance_total = []\n",
    "\n",
    "    for q in tqdm(ground_truth):\n",
    "        doc_id = q['document']\n",
    "        results = search_function(q)\n",
    "        relevance = [d['id'] == doc_id for d in results]\n",
    "        relevance_total.append(relevance)\n",
    "\n",
    "    return {\n",
    "        'hit_rate': hit_rate(relevance_total),\n",
    "    }"
   ]
  },
  {
   "cell_type": "code",
   "execution_count": 25,
   "metadata": {},
   "outputs": [
    {
     "data": {
      "application/vnd.jupyter.widget-view+json": {
       "model_id": "338d672dc8ee4ab09a93d73aad912498",
       "version_major": 2,
       "version_minor": 0
      },
      "text/plain": [
       "  0%|          | 0/1830 [00:00<?, ?it/s]"
      ]
     },
     "metadata": {},
     "output_type": "display_data"
    },
    {
     "data": {
      "text/plain": [
       "{'hit_rate': 0.9398907103825137}"
      ]
     },
     "execution_count": 25,
     "metadata": {},
     "output_type": "execute_result"
    }
   ],
   "source": [
    "from functools import partial\n",
    "encode_and_evaluate(ground_truth, partial(search_engine.search, num_results=5))"
   ]
  },
  {
   "cell_type": "markdown",
   "metadata": {},
   "source": [
    "It is 0.93"
   ]
  },
  {
   "cell_type": "markdown",
   "metadata": {},
   "source": [
    "## Q5. Indexing with Elasticsearch\n",
    "\n",
    "Now let's index these documents with elasticsearch\n",
    "\n",
    "* Create the index with the same settings as in the module (but change the dimensions)\n",
    "* Index the embeddings (note: you've already computed them)\n",
    "\n",
    "After indexing, let's perform the search of the same query from Q1.\n",
    "\n",
    "What's the ID of the document with the highest score?"
   ]
  },
  {
   "cell_type": "markdown",
   "metadata": {},
   "source": [
    "This ID is ee58a693"
   ]
  },
  {
   "cell_type": "markdown",
   "metadata": {},
   "source": []
  },
  {
   "cell_type": "code",
   "execution_count": 27,
   "metadata": {},
   "outputs": [
    {
     "data": {
      "text/plain": [
       "ObjectApiResponse({'acknowledged': True, 'shards_acknowledged': True, 'index': 'course-questions'})"
      ]
     },
     "execution_count": 27,
     "metadata": {},
     "output_type": "execute_result"
    }
   ],
   "source": [
    "from elasticsearch import Elasticsearch\n",
    "\n",
    "es_client = Elasticsearch('http://localhost:9200') \n",
    "\n",
    "index_settings = {\n",
    "    \"settings\": {\n",
    "        \"number_of_shards\": 1,\n",
    "        \"number_of_replicas\": 0\n",
    "    },\n",
    "    \"mappings\": {\n",
    "        \"properties\": {\n",
    "            \"text\": {\"type\": \"text\"},\n",
    "            \"section\": {\"type\": \"text\"},\n",
    "            \"question\": {\"type\": \"text\"},\n",
    "            \"course\": {\"type\": \"keyword\"},\n",
    "            \"id\": {\"type\": \"keyword\"},\n",
    "            \"question_text_vector\": {\n",
    "                \"type\": \"dense_vector\",\n",
    "                \"dims\": 768,\n",
    "                \"index\": True,\n",
    "                \"similarity\": \"cosine\"\n",
    "            },\n",
    "        }\n",
    "    }\n",
    "}\n",
    "\n",
    "index_name = \"course-questions\"\n",
    "\n",
    "es_client.indices.delete(index=index_name, ignore_unavailable=True)\n",
    "es_client.indices.create(index=index_name, body=index_settings)"
   ]
  },
  {
   "cell_type": "code",
   "execution_count": 28,
   "metadata": {},
   "outputs": [
    {
     "data": {
      "application/vnd.jupyter.widget-view+json": {
       "model_id": "097aeea805f242f29fbd2767297c0805",
       "version_major": 2,
       "version_minor": 0
      },
      "text/plain": [
       "0it [00:00, ?it/s]"
      ]
     },
     "metadata": {},
     "output_type": "display_data"
    }
   ],
   "source": [
    "for i, doc in tqdm(enumerate(relevant_documents)):\n",
    "    doc['question_text_vector'] = X[i]\n",
    "    es_client.index(index=index_name, document=doc)\n",
    "     "
   ]
  },
  {
   "cell_type": "code",
   "execution_count": 42,
   "metadata": {},
   "outputs": [],
   "source": [
    "def elastic_search_knn(field, vector, course):\n",
    "    knn = {\n",
    "        \"field\": field,\n",
    "        \"query_vector\": vector,\n",
    "        \"k\": 5,\n",
    "        \"num_candidates\": 10000,\n",
    "        \"filter\": {\n",
    "            \"term\": {\n",
    "                \"course\": course\n",
    "            }\n",
    "        }\n",
    "    }\n",
    "\n",
    "    search_query = {\n",
    "        \"knn\": knn,\n",
    "        \"_source\": [\"text\", \"section\", \"question\", \"course\", \"id\"]\n",
    "    }\n",
    "\n",
    "    es_results = es_client.search(\n",
    "        index=index_name,\n",
    "        body=search_query\n",
    "    )\n",
    "    \n",
    "    result_docs = []\n",
    "    \n",
    "    for hit in es_results['hits']['hits']:\n",
    "        result_docs.append([hit['_source'], hit['_score']])\n",
    "\n",
    "    return result_docs\n"
   ]
  },
  {
   "cell_type": "code",
   "execution_count": 43,
   "metadata": {},
   "outputs": [
    {
     "data": {
      "text/plain": [
       "[[{'question': 'The course has already started. Can I still join it?',\n",
       "   'course': 'machine-learning-zoomcamp',\n",
       "   'section': 'General course-related questions',\n",
       "   'text': 'Yes, you can. You won’t be able to submit some of the homeworks, but you can still take part in the course.\\nIn order to get a certificate, you need to submit 2 out of 3 course projects and review 3 peers’ Projects by the deadline. It means that if you join the course at the end of November and manage to work on two projects, you will still be eligible for a certificate.',\n",
       "   'id': 'ee58a693'},\n",
       "  0.82532895],\n",
       " [{'question': 'I just joined. What should I do next? How can I access course materials?',\n",
       "   'course': 'machine-learning-zoomcamp',\n",
       "   'section': 'General course-related questions',\n",
       "   'text': 'Welcome to the course! Go to the course page (http://mlzoomcamp.com/), scroll down and start going through the course materials. Then read everything in the cohort folder for your cohort’s year.\\nClick on the links and start watching the videos. Also watch office hours from previous cohorts. Go to DTC youtube channel and click on Playlists and search for {course yyyy}. ML Zoomcamp was first launched in 2021.\\nOr you can just use this link: http://mlzoomcamp.com/#syllabus',\n",
       "   'id': '0a278fb2'},\n",
       "  0.73585373],\n",
       " [{'question': \"I filled the form, but haven't received a confirmation email. Is it normal?\",\n",
       "   'course': 'machine-learning-zoomcamp',\n",
       "   'section': 'General course-related questions',\n",
       "   'text': \"The process is automated now, so you should receive the email eventually. If you haven’t, check your promotions tab in Gmail as well as spam.\\nIf you unsubscribed from our newsletter, you won't get course related updates too.\\nBut don't worry, it’s not a problem. To make sure you don’t miss anything, join the #course-ml-zoomcamp channel in Slack and our telegram channel with announcements. This is enough to follow the course.\",\n",
       "   'id': '6ba259b1'},\n",
       "  0.72949994],\n",
       " [{'question': 'Can I do the course in other languages, like R or Scala?',\n",
       "   'course': 'machine-learning-zoomcamp',\n",
       "   'section': 'Miscellaneous',\n",
       "   'text': 'Technically, yes. Advisable? Not really. Reasons:\\nSome homework(s) asks for specific python library versions.\\nAnswers may not match in MCQ options if using different languages other than Python 3.10 (the recommended version for 2023 cohort)\\nAnd as for midterms/capstones, your peer-reviewers may not know these other languages. Do you want to be penalized for others not knowing these other languages?\\nYou can create a separate repo using course’s lessons but written in other languages for your own learnings, but not advisable for submissions.\\ntx[source]',\n",
       "   'id': '9f261648'},\n",
       "  0.7284951],\n",
       " [{'question': 'The course videos are from the previous iteration. Will you release new ones or we’ll use the videos from 2021?',\n",
       "   'course': 'machine-learning-zoomcamp',\n",
       "   'section': 'General course-related questions',\n",
       "   'text': 'We won’t re-record the course videos. The focus of the course and the skills we want to teach remained the same, and the videos are still up-to-date.\\nIf you haven’t taken part in the previous iteration, you can start watching the videos. It’ll be useful for you and you will learn new things. However, we recommend using Python 3.10 now instead of Python 3.8.',\n",
       "   'id': 'e7ba6b8a'},\n",
       "  0.7252791]]"
      ]
     },
     "execution_count": 43,
     "metadata": {},
     "output_type": "execute_result"
    }
   ],
   "source": [
    "elastic_search_knn('question_text_vector', encoded_user_question.tolist(), 'machine-learning-zoomcamp')"
   ]
  },
  {
   "cell_type": "code",
   "execution_count": null,
   "metadata": {},
   "outputs": [],
   "source": [
    "\n",
    "def question_text_vector_knn(q):\n",
    "    question = q['question']\n",
    "    course = q['course']\n",
    "\n",
    "    v_q = embedding_model.encode(question)\n",
    "\n",
    "    return elastic_search_knn('question_text_vector', v_q, course)[0]"
   ]
  },
  {
   "cell_type": "markdown",
   "metadata": {},
   "source": [
    "## Q6. Hit-rate for Elasticsearch\n",
    "\n",
    "The search engine we used in Q4 computed the similarity between\n",
    "the query and ALL the vectors in our database. Usually this is \n",
    "not practical, as we may have a lot of data.\n",
    "\n",
    "Elasticsearch uses approximate techniques to make it faster. \n",
    "\n",
    "Let's evaluate how worse the results are when we switch from\n",
    "exact search (as in Q4) to approximate search with Elastic.\n",
    "\n",
    "What's hitrate for our dataset for Elastic?\n",
    "\n",
    "* 0.93\n",
    "* 0.73\n",
    "* 0.53\n",
    "* 0.33\n"
   ]
  },
  {
   "cell_type": "code",
   "execution_count": 40,
   "metadata": {},
   "outputs": [
    {
     "data": {
      "application/vnd.jupyter.widget-view+json": {
       "model_id": "2e07de061e3b43069ac75423915824aa",
       "version_major": 2,
       "version_minor": 0
      },
      "text/plain": [
       "  0%|          | 0/1830 [00:00<?, ?it/s]"
      ]
     },
     "metadata": {},
     "output_type": "display_data"
    },
    {
     "data": {
      "text/plain": [
       "{'hit_rate': 0.9398907103825137}"
      ]
     },
     "execution_count": 40,
     "metadata": {},
     "output_type": "execute_result"
    }
   ],
   "source": [
    "evaluate(ground_truth, question_text_vector_knn)"
   ]
  },
  {
   "cell_type": "code",
   "execution_count": 34,
   "metadata": {},
   "outputs": [
    {
     "data": {
      "text/plain": [
       "{'machine-learning-zoomcamp'}"
      ]
     },
     "execution_count": 34,
     "metadata": {},
     "output_type": "execute_result"
    }
   ],
   "source": [
    "ground_truth_course = set(g['course'] for g in ground_truth)\n",
    "ground_truth_course"
   ]
  },
  {
   "cell_type": "code",
   "execution_count": null,
   "metadata": {},
   "outputs": [],
   "source": [
    "0.9398907103825137"
   ]
  },
  {
   "cell_type": "markdown",
   "metadata": {},
   "source": []
  }
 ],
 "metadata": {
  "kernelspec": {
   "display_name": "llm-kernel",
   "language": "python",
   "name": "llm-kernel"
  },
  "language_info": {
   "codemirror_mode": {
    "name": "ipython",
    "version": 3
   },
   "file_extension": ".py",
   "mimetype": "text/x-python",
   "name": "python",
   "nbconvert_exporter": "python",
   "pygments_lexer": "ipython3",
   "version": "3.10.13"
  }
 },
 "nbformat": 4,
 "nbformat_minor": 2
}
